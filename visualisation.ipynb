{
 "cells": [
  {
   "cell_type": "code",
   "execution_count": 2,
   "metadata": {
    "collapsed": true
   },
   "outputs": [],
   "source": [
    "import numpy as np\n",
    "import matplotlib.pyplot as plt\n",
    "import pickle\n",
    "from ipywidgets import interact"
   ]
  },
  {
   "cell_type": "code",
   "execution_count": 3,
   "outputs": [],
   "source": [
    "\n",
    "def read_data(path='data/last_data.data'):\n",
    "\n",
    "    with open(path, 'rb') as file:\n",
    "        temp = pickle.load(file)\n",
    "\n",
    "    return temp\n",
    "\n",
    "def load_btn_callback2(fname):\n",
    "    d_list, _, _, _ = read_data('data/'+fname)\n",
    "\n",
    "    return d_list\n",
    "\n",
    "class PotentialShape():\n",
    "    def __init__(self, L, W, V, cw=40):\n",
    "        self.v_value = V\n",
    "        self.L =L\n",
    "        self.W = W\n",
    "        self.center_x = int(self.L/2)\n",
    "        self.center_y = int(self.W/2)\n",
    "        self.width = 5\n",
    "        self.a = 5\n",
    "        self.canal_width = cw\n",
    "\n",
    "    def single_barrier(self):\n",
    "        Vtab = np.zeros((self.L, self.W))\n",
    "\n",
    "        for i in range(self.center_x - self.width, self.center_x + self.width + 1):\n",
    "            for j in range(self.W):\n",
    "                Vtab[i,j] = self.v_value\n",
    "\n",
    "        return Vtab\n",
    "\n",
    "    def single_slit(self):\n",
    "        Vtab = self.single_barrier()\n",
    "\n",
    "        for i in range(self.center_x - self.width, self.center_x + self.width + 1):\n",
    "            for j in range(int(self.W/2) - self.a, int(self.W/2) + self.a + 1):\n",
    "                Vtab[i,j] = 0\n",
    "\n",
    "        return Vtab\n",
    "    def double_slit_wide(self):\n",
    "        Vtab = self.single_barrier()\n",
    "\n",
    "        for i in range(self.center_x - self.width, self.center_x + self.width + 1):\n",
    "            for j in range(int(self.W/2) - 2*self.a - 8, int(self.W/2) + 2*self.a + 8 + 1):\n",
    "                if j < int(self.W/2) - self.a or j > int(self.W/2) + self.a:\n",
    "                    Vtab[i,j] = 0\n",
    "\n",
    "        return Vtab\n",
    "\n",
    "    def two_terminal_ring(self):\n",
    "        Vtab = np.ones((self.L, self.W))\n",
    "        Vtab = self.v_value * Vtab\n",
    "\n",
    "        self.o_radius = 120\n",
    "        self.i_radius = 80\n",
    "        self.width = self.canal_width\n",
    "\n",
    "        for i in range(self.center_x - self.o_radius, self.center_x + self.o_radius + 1):\n",
    "            for j in range(self.center_y - self.o_radius, self.center_y + self.o_radius):\n",
    "                if np.sqrt((i-self.center_x)**2 + (j-self.center_y)**2) > self.i_radius and np.sqrt((i-self.center_x)**2 + (j-self.center_y)**2) < self.o_radius:\n",
    "                    Vtab[i, j] = 0\n",
    "\n",
    "        for i in range(0, self.L):\n",
    "            for j in range(self.center_y - int(self.width/2), self.center_y + int(self.width/2)):\n",
    "                if i < self.center_x - self.i_radius or i > self.center_x + self.i_radius:\n",
    "                    Vtab[i,j] = 0\n",
    "\n",
    "        return Vtab"
   ],
   "metadata": {
    "collapsed": false,
    "pycharm": {
     "name": "#%%\n"
    }
   }
  },
  {
   "cell_type": "code",
   "execution_count": 4,
   "outputs": [
    {
     "data": {
      "text/plain": "interactive(children=(IntSlider(value=0, description='index', max=481), Output()), _dom_classes=('widget-inter…",
      "application/vnd.jupyter.widget-view+json": {
       "version_major": 2,
       "version_minor": 0,
       "model_id": "67ae6203bf82421c8ee9b944dbd3d634"
      }
     },
     "metadata": {},
     "output_type": "display_data"
    },
    {
     "data": {
      "text/plain": "<function __main__.plot_function(index=0)>"
     },
     "execution_count": 4,
     "metadata": {},
     "output_type": "execute_result"
    }
   ],
   "source": [
    "plt.rcParams[\"figure.figsize\"] = (10,10)\n",
    "data_list = load_btn_callback2(\"cyklotron_480pktdt20.data\")\n",
    "\n",
    "L = 400\n",
    "W = 400\n",
    "x_gate = 400\n",
    "#Vtab = PotentialShape(400, 400, 8*0.5).double_slit_wide()\n",
    "Vtab = []\n",
    "x_list = np.linspace(0, L, L)\n",
    "y_list = np.linspace(0, W, W)\n",
    "\n",
    "X, Y = np.meshgrid(x_list,y_list)\n",
    "\n",
    "def normalize(v):\n",
    "    norm = np.linalg.norm(v)\n",
    "    if norm == 0:\n",
    "       return v\n",
    "    return v / norm\n",
    "\n",
    "def norm(index=0):\n",
    "    suma = data_list[index].copy()\n",
    "    suma = (np.abs(suma)**2)\n",
    "    suma = np.sum(suma)\n",
    "\n",
    "    return suma\n",
    "\n",
    "def plot_function(index = 0):\n",
    "\n",
    "\n",
    "    Z = np.resize(data_list[index], (L,W))\n",
    "    Z = Z.transpose()\n",
    "    Z = np.abs(Z*Z.conj())\n",
    "    Z = normalize(Z)\n",
    "    #Vt = normalize(Vtab)\n",
    "\n",
    "    #Z2 = Z + 4*Vt.transpose()\n",
    "\n",
    "    plt.style.use(\"seaborn-colorblind\")\n",
    "    plt.rcParams['font.family'] = 'sans-serif'\n",
    "\n",
    "    plt.title(\"Double\", fontsize=15)\n",
    "    plt.xlabel(\"x [a]\", fontweight=\"bold\", fontsize=15)\n",
    "    plt.ylabel(\"y [a]\", fontweight=\"bold\", fontsize=15)\n",
    "\n",
    "    #plt.grid()\n",
    "    \n",
    "    plt.contour(X,Y,Z, colors=\"black\", alpha=0.3, levels=20)\n",
    "    plt.imshow(Z,extent=[0,L,0,W],origin=\"lower\", cmap =\"OrRd\")\n",
    "    #plt.imshow(Vtab.transpose(), extent=[0,400,0,400],origin=\"lower\", cmap=\"gray_r\")\n",
    "\n",
    "    #plt.axvline(x_gate, ymin=0, ymax=1, c=\"r\", label=\"gate\")\n",
    "\n",
    "    #plt.ylim(75, 325)\n",
    "    #plt.xlim(75, 325)\n",
    "\n",
    "    #plt.savefig('visualizations/double_slit_wide.png', dpi=200, bbox_inches='tight')\n",
    "    plt.show()\n",
    "interact(plot_function, index=(0,len(data_list), 1))\n",
    "\n"
   ],
   "metadata": {
    "collapsed": false,
    "pycharm": {
     "name": "#%%\n"
    }
   }
  },
  {
   "cell_type": "code",
   "execution_count": 6,
   "outputs": [
    {
     "data": {
      "text/plain": "<Figure size 720x720 with 4 Axes>",
      "image/png": "[encoded data removed]"
     },
     "metadata": {
      "needs_background": "light"
     },
     "output_type": "display_data"
    }
   ],
   "source": [
    "data_list = load_btn_callback2(\"cyklotron_480pktdt20.data\")\n",
    "def plot_multiple_function(index_list=[]):\n",
    "\n",
    "    fig, axs = plt.subplots(1,4, sharex=True, sharey=True, gridspec_kw={'wspace': 0})\n",
    "    plt.rcParams['font.family'] = 'sans-serif'\n",
    "    plt.style.use(\"seaborn-colorblind\")\n",
    "    #plt.ylabel(\"y [a]\", fontweight=\"bold\", fontsize=15)\n",
    "    #plt.xlabel(\"x [a]\", fontweight=\"bold\", fontsize=15)\n",
    "\n",
    "    for i, index in enumerate(index_list):\n",
    "\n",
    "        Z = np.resize(data_list[index], (400,400))\n",
    "        Z = Z.transpose()\n",
    "        Z = np.abs(Z*Z.conj())\n",
    "        #Z = normalize(Z)\n",
    "        #Vt = normalize(Vtab)\n",
    "\n",
    "        #Z2 = Z + 4*Vt.transpose()\n",
    "\n",
    "        #plt.subplot(1,4,i+1)\n",
    "        #plt.title(\"Double\", fontsize=15)\n",
    "\n",
    "\n",
    "        axs[i].contour(X,Y,Z, colors=\"black\", alpha=0.3, levels=20, linewidths=0.5)\n",
    "        axs[i].imshow(Z,extent=[0,400,0,400],origin=\"lower\", cmap =\"OrRd\", vmin=0, vmax=float(0.0005))\n",
    "        #plt.imshow(Vtab.transpose(), extent=[0,400,0,400],origin=\"lower\", cmap=\"gray_r\")\n",
    "\n",
    "        #plt.ylim(75, 325)\n",
    "        #plt.xlim(75, 325)\n",
    "        axs[i].text(260,300, \"t=\"+str(index),\n",
    "                    horizontalalignment='left',\n",
    "                    size='medium',\n",
    "                    weight=\"bold\")\n",
    "\n",
    "    for ax in axs:\n",
    "        ax.label_outer()\n",
    "    #plt.savefig('visualizations/singlebarrier.png', dpi=300, bbox_inches='tight')\n",
    "    plt.show()\n",
    "\n",
    "plot_multiple_function([0,20,40,60])"
   ],
   "metadata": {
    "collapsed": false,
    "pycharm": {
     "name": "#%%\n"
    }
   }
  },
  {
   "cell_type": "code",
   "execution_count": 7,
   "outputs": [
    {
     "data": {
      "text/plain": "[<matplotlib.lines.Line2D at 0x22783304b88>]"
     },
     "execution_count": 7,
     "metadata": {},
     "output_type": "execute_result"
    },
    {
     "data": {
      "text/plain": "<Figure size 720x720 with 1 Axes>",
      "image/png": "[encoded data removed]"
     },
     "metadata": {
      "needs_background": "light"
     },
     "output_type": "display_data"
    }
   ],
   "source": [
    "#norm\n",
    "norm_list = [norm(index) for index in range(len(data_list))]\n",
    "plt.plot(np.log(norm_list) )\n"
   ],
   "metadata": {
    "collapsed": false,
    "pycharm": {
     "name": "#%%\n"
    }
   }
  },
  {
   "cell_type": "code",
   "execution_count": 11,
   "outputs": [
    {
     "data": {
      "text/plain": "<Figure size 720x720 with 1 Axes>",
      "image/png": "[encoded data removed]"
     },
     "metadata": {
      "needs_background": "light"
     },
     "output_type": "display_data"
    }
   ],
   "source": [
    "#potential\n",
    "plt.rcParams[\"figure.figsize\"] = (10,10)\n",
    "L = 640\n",
    "W = 240\n",
    "Vtab = PotentialShape(L, W, 1, 40).two_terminal_ring()\n",
    "\n",
    "\n",
    "plt.imshow(Vtab.transpose(), extent=[0,L,0,W],origin=\"lower\", cmap=\"gray_r\")\n",
    "plt.grid()\n",
    "plt.show()\n",
    "\n"
   ],
   "metadata": {
    "collapsed": false,
    "pycharm": {
     "name": "#%%\n"
    }
   }
  }
 ],
 "metadata": {
  "kernelspec": {
   "name": "python3",
   "language": "python",
   "display_name": "Python 3"
  },
  "language_info": {
   "codemirror_mode": {
    "name": "ipython",
    "version": 2
   },
   "file_extension": ".py",
   "mimetype": "text/x-python",
   "name": "python",
   "nbconvert_exporter": "python",
   "pygments_lexer": "ipython2",
   "version": "2.7.6"
  }
 },
 "nbformat": 4,
 "nbformat_minor": 0
}