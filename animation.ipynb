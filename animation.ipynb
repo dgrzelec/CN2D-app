{
 "cells": [
  {
   "cell_type": "code",
   "execution_count": 1,
   "metadata": {},
   "outputs": [],
   "source": [
    "import numpy as np\n",
    "import matplotlib.pyplot as plt\n",
    "import pickle\n",
    "from ipywidgets import interact\n",
    "from matplotlib.animation import FuncAnimation"
   ]
  },
  {
   "cell_type": "code",
   "execution_count": 2,
   "metadata": {
    "pycharm": {
     "name": "#%%\n"
    }
   },
   "outputs": [],
   "source": [
    "\n",
    "def read_data(path='data/last_data.data'):\n",
    "\n",
    "    with open(path, 'rb') as file:\n",
    "        temp = pickle.load(file)\n",
    "\n",
    "    return temp\n",
    "\n",
    "def load_btn_callback2(fname):\n",
    "    d_list, _, _, _ = read_data('data/'+fname)\n",
    "\n",
    "    return d_list\n",
    "\n",
    "class PotentialShape():\n",
    "    def __init__(self, L, W, V, cw=40):\n",
    "        self.v_value = V\n",
    "        self.L =L\n",
    "        self.W = W\n",
    "        self.center_x = int(self.L/2)\n",
    "        self.center_y = int(self.W/2)\n",
    "        self.width = 5\n",
    "        self.a = 5\n",
    "        self.canal_width = cw\n",
    "\n",
    "    def single_barrier(self):\n",
    "        Vtab = np.zeros((self.L, self.W))\n",
    "\n",
    "        for i in range(self.center_x - self.width, self.center_x + self.width + 1):\n",
    "            for j in range(self.W):\n",
    "                Vtab[i,j] = self.v_value\n",
    "\n",
    "        return Vtab\n",
    "\n",
    "    def single_slit(self):\n",
    "        Vtab = self.single_barrier()\n",
    "\n",
    "        for i in range(self.center_x - self.width, self.center_x + self.width + 1):\n",
    "            for j in range(int(self.W/2) - self.a, int(self.W/2) + self.a + 1):\n",
    "                Vtab[i,j] = 0\n",
    "\n",
    "        return Vtab\n",
    "    def double_slit_wide(self):\n",
    "        Vtab = self.single_barrier()\n",
    "\n",
    "        for i in range(self.center_x - self.width, self.center_x + self.width + 1):\n",
    "            for j in range(int(self.W/2) - 2*self.a - 8, int(self.W/2) + 2*self.a + 8 + 1):\n",
    "                if j < int(self.W/2) - self.a or j > int(self.W/2) + self.a:\n",
    "                    Vtab[i,j] = 0\n",
    "\n",
    "        return Vtab\n",
    "\n",
    "    def two_terminal_ring(self):\n",
    "        Vtab = np.ones((self.L, self.W))\n",
    "        Vtab = self.v_value * Vtab\n",
    "\n",
    "        self.o_radius = 120\n",
    "        self.i_radius = 80\n",
    "        self.width = self.canal_width\n",
    "\n",
    "        for i in range(self.center_x - self.o_radius, self.center_x + self.o_radius + 1):\n",
    "            for j in range(self.center_y - self.o_radius, self.center_y + self.o_radius):\n",
    "                if np.sqrt((i-self.center_x)**2 + (j-self.center_y)**2) > self.i_radius and np.sqrt((i-self.center_x)**2 + (j-self.center_y)**2) < self.o_radius:\n",
    "                    Vtab[i, j] = 0\n",
    "\n",
    "        for i in range(0, self.L):\n",
    "            for j in range(self.center_y - int(self.width/2), self.center_y + int(self.width/2)):\n",
    "                if i < self.center_x - self.i_radius or i > self.center_x + self.i_radius:\n",
    "                    Vtab[i,j] = 0\n",
    "\n",
    "        return Vtab\n",
    "    \n",
    "    def canal(self):\n",
    "\n",
    "        Vtab = np.ones((self.L, self.W))\n",
    "        Vtab = self.v_value * Vtab\n",
    "\n",
    "        width = self.canal_width\n",
    "\n",
    "        for i in range(0, self.L):\n",
    "            for j in range(self.center_y - int(width/2), self.center_y + int(width/2)):\n",
    "                    Vtab[i,j] = 0\n",
    "\n",
    "        return Vtab"
   ]
  },
  {
   "cell_type": "code",
   "execution_count": 63,
   "metadata": {
    "pycharm": {
     "name": "#%%\n"
    }
   },
   "outputs": [
    {
     "name": "stderr",
     "output_type": "stream",
     "text": [
      "MovieWriter avconv unavailable; trying to use <class 'matplotlib.animation.PillowWriter'> instead.\n"
     ]
    },
    {
     "data": {
      "text/plain": "<Figure size 288x288 with 1 Axes>",
      "image/png": "[encoded data removed]"
     },
     "metadata": {},
     "output_type": "display_data"
    }
   ],
   "source": [
    "plt.rcParams[\"figure.figsize\"] = (10,10)\n",
    "data_list = load_btn_callback2(\"cyklotron_480pktdt20.data\")\n",
    "\n",
    "L = 400\n",
    "W = 400\n",
    "T_gate = 1050\n",
    "R_gate = 600\n",
    "#Vtab = PotentialShape(400, 400, 8*0.5).double_slit_wide()\n",
    "Vtab = []\n",
    "x_list = np.linspace(0, L, L)\n",
    "y_list = np.linspace(0, W, W)\n",
    "\n",
    "X, Y = np.meshgrid(x_list,y_list)\n",
    "\n",
    "def anim(index):\n",
    "    Z = np.resize(data_list[index], (L,W))\n",
    "    Z = Z.transpose()\n",
    "    Z = np.abs(Z*Z.conj())\n",
    "    \n",
    "    #ax.collections = []\n",
    "    #ax.contour(X,Y,Z, colors=\"black\", alpha=0.3, levels=20)\n",
    "    image.set_array(Z)\n",
    "    \n",
    "    \n",
    "    \n",
    "    \n",
    "\n",
    "Z = np.resize(data_list[0], (L,W))\n",
    "Z = Z.transpose()\n",
    "Z = np.abs(Z*Z.conj())\n",
    "\n",
    "    \n",
    "#################################colormap\n",
    "from matplotlib.colors import LinearSegmentedColormap\n",
    "\n",
    "ncolors = 256\n",
    "color_array = plt.get_cmap('OrRd')(range(ncolors))\n",
    "\n",
    "# change alpha values\n",
    "color_array[:,-1] = np.linspace(0.0,1.0,ncolors)\n",
    "\n",
    "# create a colormap object\n",
    "map_object = LinearSegmentedColormap.from_list(name='OrRd_alpha',colors=color_array)\n",
    "\n",
    "# register this new colormap with matplotlib\n",
    "plt.register_cmap(cmap=map_object)\n",
    "\n",
    "#################\n",
    "fig, ax = plt.subplots(figsize=(4, 4))\n",
    "\n",
    "image = ax.imshow(Z,extent=[0,L,0,W],origin=\"lower\", cmap =\"OrRd_alpha\", vmin=10**(-10), vmax=float(0.0005), animated=True)\n",
    "#cont = ax.contour(X,Y,Z, colors=\"black\", alpha=0.3, levels=20)\n",
    "\n",
    "#plt.style.use(\"seaborn-colorblind\")\n",
    "plt.rcParams['font.family'] = 'sans-serif'\n",
    "ax.xaxis.set_major_locator(plt.NullLocator())\n",
    "ax.yaxis.set_major_locator(plt.NullLocator())\n",
    "#ax.axis('off')\n",
    "\n",
    "ax.xaxis.set_visible(False)\n",
    "ax.yaxis.set_visible(False)\n",
    "ax.set_frame_on(False)\n",
    "\n",
    "fig.patch.set_alpha(0.)\n",
    "\n",
    "\n",
    "\n",
    "\n",
    "\n",
    "\n",
    "#plt.colorbar()\n",
    "#plt.imshow(Vtab.transpose(), extent=[0,400,0,400],origin=\"lower\", cmap=\"gray_r\")\n",
    "\n",
    "#plt.axvline(T_gate, ymin=0, ymax=1, c=\"r\", label=\"gate\")\n",
    "#plt.axvline(R_gate, ymin=0, ymax=1, c=\"r\", label=\"gate\")\n",
    "ax.set_ylim(50, 300)\n",
    "ax.set_xlim(75, 325)\n",
    "\n",
    "#plt.gca().xaxis.set_major_locator(plt.MaxNLocator(100))\n",
    "\n",
    "plt.rcParams['animation.writer'] = 'avconv'\n",
    "\n",
    "#plt.savefig('visualizations/double_slit_wide.png', dpi=200, bbox_inches='tight')\n",
    "\n",
    "\n",
    "anim2 = FuncAnimation(fig, anim, interval=50, frames=100)\n",
    "\n",
    "\n",
    "#plt.draw()\n",
    "#plt.show()\n",
    "anim2.save('anim_test.gif', codec=\"png\", dpi=50 ,savefig_kwargs={'transparent': True, 'facecolor': 'none'})\n",
    "\n",
    "#interact(plot_function, index=(0,len(data_list), 1))\n"
   ]
  },
  {
   "cell_type": "code",
   "execution_count": 12,
   "outputs": [
    {
     "name": "stdout",
     "output_type": "stream",
     "text": [
      "101\n"
     ]
    }
   ],
   "source": [
    "print(len(data_list))\n"
   ],
   "metadata": {
    "collapsed": false,
    "pycharm": {
     "name": "#%%\n"
    }
   }
  }
 ],
 "metadata": {
  "kernelspec": {
   "display_name": "Python 3",
   "language": "python",
   "name": "python3"
  },
  "language_info": {
   "codemirror_mode": {
    "name": "ipython",
    "version": 3
   },
   "file_extension": ".py",
   "mimetype": "text/x-python",
   "name": "python",
   "nbconvert_exporter": "python",
   "pygments_lexer": "ipython3",
   "version": "3.6.8"
  }
 },
 "nbformat": 4,
 "nbformat_minor": 1
}